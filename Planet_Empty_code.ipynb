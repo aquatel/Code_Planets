{
 "cells": [
  {
   "cell_type": "markdown",
   "metadata": {},
   "source": [
    "STATISTIQUE\n",
    "===\n",
    "---\n",
    "Librairie\n",
    "---\n",
    "\n"
   ]
  },
  {
   "cell_type": "markdown",
   "metadata": {},
   "source": [
    "Connaitre le nombre d'image disponible sur le site d'étude.\n",
    "\n",
    "**Importation des librairies necessaire au traitement.**\n",
    "- json \n",
    "- os\n",
    "- requests\n",
    "- time\n",
    "- geojsonsio\n",
    "\n",
    "après l'importation de librairie entré votre compte API de Planetlabs ([trouvé son API key][API])\n",
    "\n",
    "l'ensemble de l'information provient de ce site.\n",
    "\n",
    "https://github.com/planetlabs/notebooks/blob/master/jupyter-notebooks/data-api-tutorials/planet_data_api_introduction.ipynb\n",
    "\n",
    "[API]:https://developers.planet.com/planetschool/getting-started/"
   ]
  },
  {
   "cell_type": "code",
   "execution_count": null,
   "metadata": {},
   "outputs": [],
   "source": [
    "# import\n",
    "import time\n",
    "import os\n",
    "import geojsonio\n",
    "import json\n",
    "import requests\n",
    "\n",
    "os.environ['PL_API_KEY']='' # Entré votre API_KEY personnel.\n",
    "PLANET_API_KEY= os.getenv ('PL_API_KEY')"
   ]
  },
  {
   "cell_type": "markdown",
   "metadata": {},
   "source": [
    "Les prochaines étapes permet à la vérification de la connection entre l'utilisateur et le serveur de Planetlabs."
   ]
  },
  {
   "cell_type": "code",
   "execution_count": null,
   "metadata": {},
   "outputs": [],
   "source": [
    "def p(data):\n",
    "    print(json.dumps(data, indent=2))"
   ]
  },
  {
   "cell_type": "code",
   "execution_count": null,
   "metadata": {},
   "outputs": [],
   "source": [
    "# définir l'URL d'accès au donnée de planetlab\n",
    "URL = \"https://api.planet.com/data/v1\"\n",
    "\n",
    "session = requests.Session()\n",
    "\n",
    "session.auth = (PLANET_API_KEY, \"\")"
   ]
  },
  {
   "cell_type": "code",
   "execution_count": null,
   "metadata": {},
   "outputs": [],
   "source": [
    "res = session.get(URL)"
   ]
  },
  {
   "cell_type": "code",
   "execution_count": null,
   "metadata": {},
   "outputs": [],
   "source": [
    "res.status_code # 200 veut dire que la requête est correct alor que 402 non"
   ]
  },
  {
   "cell_type": "code",
   "execution_count": null,
   "metadata": {},
   "outputs": [],
   "source": [
    "res.text"
   ]
  },
  {
   "cell_type": "code",
   "execution_count": null,
   "metadata": {},
   "outputs": [],
   "source": [
    "p(res.json())"
   ]
  },
  {
   "cell_type": "code",
   "execution_count": null,
   "metadata": {},
   "outputs": [],
   "source": [
    "#validation des requêtes et sélection du links\n",
    "print(res.json()[\"_links\"][\"item-types\"])\n"
   ]
  },
  {
   "cell_type": "markdown",
   "metadata": {},
   "source": [
    "Félicitation! vous venez de faire votre première requête à Planet Data API en utilisant Python\n",
    "\n",
    "Maintenant, on va prendre le temps de regarder comment avoir accès à la panoplie d'image de planet."
   ]
  },
  {
   "cell_type": "code",
   "execution_count": null,
   "metadata": {},
   "outputs": [],
   "source": [
    "# La fonction stats permet de voir le nombre d'image de disponible selon nos filtres.\n",
    "\n",
    "stats_url = \"{}/stats\".format(URL)\n",
    "\n",
    "print(stats_url)"
   ]
  },
  {
   "cell_type": "code",
   "execution_count": null,
   "metadata": {},
   "outputs": [],
   "source": [
    "# Sélection du capteur\n",
    "\n",
    "item_types = [\"REOrthoTile\", \"PSScene4Band\"]\n",
    "\n",
    "# exemple (item_types = [\"PSScene4Band\"])\n"
   ]
  },
  {
   "cell_type": "markdown",
   "metadata": {},
   "source": [
    "Voici les noms des différent capteur et de leur base de donné\n",
    "\n",
    "Il est possible de trouvé les différents critère et écriture sur [les item-assets][item].\n",
    "\n",
    "[item]:https://developers.planet.com/docs/api/items-assets/"
   ]
  },
  {
   "cell_type": "markdown",
   "metadata": {},
   "source": [
    "Les filtres \n",
    "---"
   ]
  },
  {
   "cell_type": "markdown",
   "metadata": {},
   "source": [
    "La prochaine étaple est d'attribuer des filtres à notre recherche\n",
    "\n",
    "Elle peut être sur le temps, la position géographique, la couverture nuageuse, etc... On peut même les combinées\n",
    "\n",
    "Vous pouvez d'autre exemple [ici][Filter]\n",
    "\n",
    "[Filter]:https://developers.planet.com/docs/api/searches-filtering/"
   ]
  },
  {
   "cell_type": "code",
   "execution_count": null,
   "metadata": {},
   "outputs": [],
   "source": [
    "date_filter = {\n",
    "    \"type\": \"DateRangeFilter\",\n",
    "    \"field_name\": \"acquired\",\n",
    "    \"config\":{\n",
    "        \"gte\":\"2016-01-01T00:00:00.000Z\",\n",
    "    }\n",
    "}\n",
    "# isle verte\n",
    "geom_filter = {\n",
    "    \"type\": \"GeometryFilter\",\n",
    "    \"field_name\": \"geometry\",\n",
    "    \"config\":{\n",
    "        \"type\": \"Polygon\",\n",
    "        \"coordinates\":[\n",
    "          [\n",
    "            [\n",
    "              -69.51187133789062,\n",
    "              47.958663127446556\n",
    "            ],\n",
    "            [\n",
    "              -69.44320678710938,\n",
    "              47.958663127446556\n",
    "            ],\n",
    "            [\n",
    "              -69.44320678710938,\n",
    "              48.004625021133904\n",
    "            ],\n",
    "            [\n",
    "              -69.51187133789062,\n",
    "              48.004625021133904\n",
    "            ],\n",
    "            [\n",
    "              -69.51187133789062,\n",
    "              47.958663127446556\n",
    "            ]\n",
    "          ]\n",
    "        ]\n",
    "    }\n",
    "}"
   ]
  },
  {
   "cell_type": "code",
   "execution_count": null,
   "metadata": {},
   "outputs": [],
   "source": [
    "# le and_filter permet de jumelée des filtres entre eux afin d'y faire la request complete.\n",
    "and_filter ={\n",
    "    \"type\" : \"AndFilter\",\n",
    "    \"config\": [date_filter, geom_filter,]\n",
    "}\n",
    "#p(and_filter)"
   ]
  },
  {
   "cell_type": "code",
   "execution_count": null,
   "metadata": {},
   "outputs": [],
   "source": [
    "# faire une request et imprimé le nombre de features de disponible.\n",
    "request = {\n",
    "    \"item_types\": item_types,\n",
    "    \"interval\": \"year\",\n",
    "    \"filter\": and_filter\n",
    "}\n",
    "\n",
    "res = session.post(stats_url, json=request)\n",
    "\n",
    "p(res.json())"
   ]
  },
  {
   "cell_type": "markdown",
   "metadata": {},
   "source": [
    "voila ce qui complet un demande quantitative du nombre d'image disponible sur notre secteur!!! "
   ]
  },
  {
   "cell_type": "markdown",
   "metadata": {},
   "source": [
    "Acquisition des imageries\n",
    "---\n",
    "\n"
   ]
  },
  {
   "cell_type": "markdown",
   "metadata": {},
   "source": [
    "Quick-search\n",
    "---\n",
    "---\n"
   ]
  },
  {
   "cell_type": "markdown",
   "metadata": {},
   "source": [
    "L'execuotion des recherche se fait à partir du **quick-search**"
   ]
  },
  {
   "cell_type": "code",
   "execution_count": null,
   "metadata": {},
   "outputs": [],
   "source": [
    "quick_url = \"{}/quick-search\".format(URL)\n",
    "\n",
    "p(quick_url)"
   ]
  },
  {
   "cell_type": "code",
   "execution_count": null,
   "metadata": {},
   "outputs": [],
   "source": [
    "# Send the POST request to the API quick search endpoint\n",
    "res = session.post(quick_url, json=request)\n",
    "# Assign the response to a variable\n",
    "geojson = res.json()\n",
    "# Print the response\n",
    "p(geojson)"
   ]
  },
  {
   "cell_type": "markdown",
   "metadata": {},
   "source": [
    "**Le nombre d'images de disponible**\n",
    "\n",
    "Il est possible de connaitre le nombre images trouvé avec le code suivant."
   ]
  },
  {
   "cell_type": "code",
   "execution_count": null,
   "metadata": {},
   "outputs": [],
   "source": [
    "# Assign a features variable \n",
    "features = geojson[\"features\"]\n",
    "# Get the number of features present in the response\n",
    "len(features)# 250 est le nombre de features que le notebook peut affiché "
   ]
  },
  {
   "cell_type": "markdown",
   "metadata": {},
   "source": [
    "il est important de crée une loop pour afficher l'ensemble des images. "
   ]
  },
  {
   "cell_type": "code",
   "execution_count": null,
   "metadata": {},
   "outputs": [],
   "source": [
    "# Loop over all the features from the response\n",
    "for f in features:\n",
    "    # Print the ID for each feature\n",
    "    p(f[\"id\"])"
   ]
  },
  {
   "cell_type": "code",
   "execution_count": null,
   "metadata": {},
   "outputs": [],
   "source": [
    "# afficher la première image seulement.\n",
    "p(features[0])"
   ]
  },
  {
   "cell_type": "code",
   "execution_count": null,
   "metadata": {},
   "outputs": [],
   "source": [
    "# Assign the \"_links\" -> \"_next\" property (link to next page of results) to a variable \n",
    "next_url = geojson[\"_links\"][\"_next\"]\n",
    "\n",
    "# Print the link to the next page of results\n",
    "print(next_url)"
   ]
  },
  {
   "cell_type": "markdown",
   "metadata": {},
   "source": [
    "The page size can be set with a _page_size parameter in the request:\n",
    "\n",
    "Le nombre d'image par page peut être choisir avec le paramettre **_page _size** dans la requête.\n",
    "\n"
   ]
  },
  {
   "cell_type": "code",
   "execution_count": null,
   "metadata": {},
   "outputs": [],
   "source": [
    "# Send the POST request to the API quick search endpoint with a page size of 9\n",
    "res = session.post(quick_url, json=request, params={\"_page_size\" : 10})\n",
    "\n",
    "# Assign the response to a variable\n",
    "geojson = res.json()\n",
    "\n",
    "# Get the number of features present in the response\n",
    "len(geojson[\"features\"])"
   ]
  },
  {
   "cell_type": "markdown",
   "metadata": {},
   "source": [
    "### Mapping Footprints Example"
   ]
  },
  {
   "cell_type": "markdown",
   "metadata": {},
   "source": [
    " ce petit bout de code permet de passée de page en page que nous avons crée précédement passée à la page suivente "
   ]
  },
  {
   "cell_type": "code",
   "execution_count": null,
   "metadata": {},
   "outputs": [],
   "source": [
    "# Assign the url variable to display the geojsonio map\n",
    "url = geojsonio.display(res.text)"
   ]
  },
  {
   "cell_type": "code",
   "execution_count": null,
   "metadata": {},
   "outputs": [],
   "source": [
    "# Assign the next_url variable to the next page of results from the response (Setup the next page of results)\n",
    "next_url = geojson[\"_links\"][\"_next\"]\n",
    "\n",
    "# Get the next page of results\n",
    "res = session.get(next_url)\n",
    "\n",
    "# Assign the response to a variable\n",
    "geojson = res.json()\n",
    "\n",
    "# Get the url see results on geojson.io\n",
    "url = geojsonio.to_geojsonio(res.text)"
   ]
  },
  {
   "cell_type": "markdown",
   "metadata": {},
   "source": [
    "### Loop pour le traitement de plusieurs images "
   ]
  },
  {
   "cell_type": "markdown",
   "metadata": {},
   "source": [
    "Les étapes individuelle suivront après la loop.\n",
    "\n",
    "---\n"
   ]
  },
  {
   "cell_type": "code",
   "execution_count": null,
   "metadata": {},
   "outputs": [],
   "source": [
    "# Assign a variable to the search result features (items)\n",
    "features = geojson[\"features\"]\n",
    "#p(feature)\n",
    "for i in range(len(features)):\n",
    "    # Get the first result's feature\n",
    "    feature = features[i] \n",
    "    # Print the ID\n",
    "    p(feature[\"id\"])\n",
    "    # Get the assets link for the item\n",
    "    assets_url = feature[\"_links\"][\"assets\"]\n",
    "    # Print the assets link\n",
    "    print(assets_url)\n",
    "    # Send a GET request to the assets url for the item (Get the list of available assets for the item)\n",
    "    res = session.get(assets_url)\n",
    "    # Assign a variable to the response\n",
    "    assets = res.json()\n",
    "    # Print the asset types that are available\n",
    "    print(assets.keys())\n",
    "    # Assign a variable to the visual asset from the item's assets\n",
    "    visual = assets[\"analytic\"]\n",
    "    # Print the visual asset data    \n",
    "    p(visual)\n",
    "    # Setup the activation url for a particular asset (in this case the visual asset)\n",
    "    activation_url = visual[\"_links\"][\"activate\"]\n",
    "\n",
    "    # Send a request to the activation url to activate the item\n",
    "    res = session.get(activation_url)\n",
    "\n",
    "    # Print the response from the activation request\n",
    "    p(res.status_code)\n",
    "    # Print the visual asset data\n",
    "    p(visual)\n",
    "    import time\n",
    "    \n",
    "    asset_activated = False\n",
    "    \n",
    "    while asset_activated == False:\n",
    "        # Send a request to the item's assets url\n",
    "        res = session.get(assets_url)\n",
    "\n",
    "        # Assign a variable to the item's assets url response\n",
    "        assets = res.json()\n",
    "\n",
    "        # Assign a variable to the visual asset from the response\n",
    "        visual = assets[\"analytic\"]\n",
    "\n",
    "        asset_status = visual[\"status\"]\n",
    "    \n",
    "        # If asset is already active, we are done\n",
    "        if asset_status == 'active':\n",
    "            asset_activated = True\n",
    "            print(\"Asset is active and ready to download\")\n",
    "            \n",
    "    # Assign a variable to the visual asset's location endpoint\n",
    "    location_url = visual[\"location\"]\n",
    "\n",
    "    # Print the location endpoint\n",
    "    #print(location_url)\n",
    "    \n",
    "    # Create a function to download asset files\n",
    "    # Parameters: \n",
    "    # - url = (the location url)\n",
    "    # - filename (the filename to save it as. defaults to whatever the file is called originally)\n",
    "\n",
    "    def pl_download(url, filename=None):\n",
    "    \n",
    "        # Send a GET request to the provided location url, using your API Key for authentication\n",
    "        res = requests.get(url, stream=True, auth=(PLANET_API_KEY, \"\"))\n",
    "        # If no filename argument is given\n",
    "        if not filename:\n",
    "            # Construct a filename from the API response\n",
    "            if \"content-disposition\" in res.headers:\n",
    "                filename = res.headers[\"content-disposition\"].split(\"filename=\")[-1].strip(\"'\\\"\")\n",
    "            # Construct a filename from the location url\n",
    "            else:\n",
    "                filename = url.split(\"=\")[1][:10]\n",
    "        # Save the file\n",
    "        with open('D:/Planet/' + filename, \"wb\") as f:\n",
    "            for chunk in res.iter_content(chunk_size=1024):\n",
    "                if chunk: # filter out keep-alive new chunks\n",
    "                    f.write(chunk)\n",
    "                    f.flush()\n",
    "\n",
    "        return filename\n",
    "    \n",
    "    # Download the file from an activated asset's location url\n",
    "    pl_download(location_url)\n",
    "\n",
    "print (\"téléchargement complet\")    \n",
    "# Print the permissions\n",
    "#p(features[\"_permissions\"])"
   ]
  },
  {
   "cell_type": "markdown",
   "metadata": {},
   "source": [
    "### Étape de l'activation au téléchargement"
   ]
  },
  {
   "cell_type": "markdown",
   "metadata": {},
   "source": [
    "#### Activation asset"
   ]
  },
  {
   "cell_type": "code",
   "execution_count": null,
   "metadata": {},
   "outputs": [],
   "source": [
    "# Assign a variable to the search result features (items)\n",
    "features = geojson[\"features\"]\n",
    "\n",
    "# Get the first result's feature\n",
    "feature = features[0]\n",
    "\n",
    "# Print the ID\n",
    "p(feature[\"id\"])\n",
    "\n",
    "# Print the permissions\n",
    "p(feature[\"_permissions\"])"
   ]
  },
  {
   "cell_type": "code",
   "execution_count": null,
   "metadata": {},
   "outputs": [],
   "source": [
    "# Assign a variable to the search result features (items)\n",
    "features = geojson[\"features\"]"
   ]
  },
  {
   "cell_type": "code",
   "execution_count": null,
   "metadata": {},
   "outputs": [],
   "source": [
    "# Get the assets link for the item\n",
    "assets_url = feature[\"_links\"][\"assets\"]\n",
    "\n",
    "# Print the assets link\n",
    "print(assets_url)"
   ]
  },
  {
   "cell_type": "code",
   "execution_count": null,
   "metadata": {},
   "outputs": [],
   "source": [
    "# Send a GET request to the assets url for the item (Get the list of available assets for the item)\n",
    "res = session.get(assets_url)\n",
    "\n",
    "# Assign a variable to the response\n",
    "assets = res.json()"
   ]
  },
  {
   "cell_type": "code",
   "execution_count": null,
   "metadata": {},
   "outputs": [],
   "source": [
    "# Print the asset types that are available\n",
    "print(assets.keys())"
   ]
  },
  {
   "cell_type": "code",
   "execution_count": null,
   "metadata": {},
   "outputs": [],
   "source": [
    "# Assign a variable to the visual asset from the item's assets\n",
    "visual = assets[\"analytic\"]\n",
    "\n",
    "# Print the visual asset data\n",
    "p(visual)"
   ]
  },
  {
   "cell_type": "markdown",
   "metadata": {},
   "source": [
    "activation\n"
   ]
  },
  {
   "cell_type": "code",
   "execution_count": null,
   "metadata": {},
   "outputs": [],
   "source": [
    "# Setup the activation url for a particular asset (in this case the visual asset)\n",
    "activation_url = visual[\"_links\"][\"activate\"]\n",
    "\n",
    "# Send a request to the activation url to activate the item\n",
    "res = session.get(activation_url)\n",
    "\n",
    "# Print the response from the activation request\n",
    "p(res.status_code)"
   ]
  },
  {
   "cell_type": "raw",
   "metadata": {},
   "source": [
    "Activation Response Codes\n",
    "After hitting an activation url, you should get a response code back from the API:\n",
    "\n",
    "202 - The request has been accepted and the activation will begin shortly.\n",
    "204 - The asset is already active and no further action is needed.\n",
    "401 - The user does not have permissions to download this file.\n",
    "After requesting to actiate an asset, let's do another request to see if the assset's status has changed:"
   ]
  },
  {
   "cell_type": "code",
   "execution_count": null,
   "metadata": {},
   "outputs": [],
   "source": [
    "import time\n",
    "\n",
    "asset_activated = False\n",
    "\n",
    "while asset_activated == False:\n",
    "    # Send a request to the item's assets url\n",
    "    res = session.get(assets_url)\n",
    "\n",
    "    # Assign a variable to the item's assets url response\n",
    "    assets = res.json()\n",
    "\n",
    "    # Assign a variable to the visual asset from the response\n",
    "    visual = assets[\"analytic\"]\n",
    "\n",
    "    asset_status = visual[\"status\"]\n",
    "    \n",
    "    # If asset is already active, we are done\n",
    "    if asset_status == 'active':\n",
    "        asset_activated = True\n",
    "        print(\"Asset is active and ready to download\")\n",
    "\n",
    "# Print the visual asset data    \n",
    "p(visual)"
   ]
  },
  {
   "cell_type": "markdown",
   "metadata": {},
   "source": [
    "## Téléchargement "
   ]
  },
  {
   "cell_type": "markdown",
   "metadata": {},
   "source": [
    "### avec lien URL\n",
    "le code si dessous donne une url pour le téléchargement manuelle"
   ]
  },
  {
   "cell_type": "code",
   "execution_count": null,
   "metadata": {},
   "outputs": [],
   "source": [
    "# Assign a variable to the visual asset's location endpoint\n",
    "location_url = visual[\"location\"]\n",
    "\n",
    "# Print the location endpoint\n",
    "print(location_url)"
   ]
  },
  {
   "cell_type": "markdown",
   "metadata": {},
   "source": [
    "### Automatique"
   ]
  },
  {
   "cell_type": "code",
   "execution_count": null,
   "metadata": {},
   "outputs": [],
   "source": [
    "# Create a function to download asset files\n",
    "# Parameters: \n",
    "# - url (the location url)\n",
    "# - filename (the filename to save it as. defaults to whatever the file is called originally)\n",
    "\n",
    "def pl_download(url, filename=None):\n",
    "    \n",
    "    # Send a GET request to the provided location url, using your API Key for authentication\n",
    "    res = requests.get(url, stream=True, auth=(PLANET_API_KEY, \"\"))\n",
    "    # If no filename argument is given\n",
    "    if not filename:\n",
    "        # Construct a filename from the API response\n",
    "        if \"content-disposition\" in res.headers:\n",
    "            filename = res.headers[\"content-disposition\"].split(\"filename=\")[-1].strip(\"'\\\"\")\n",
    "        # Construct a filename from the location url\n",
    "        else:\n",
    "            filename = url.split(\"=\")[1][:10]\n",
    "    # Save the file\n",
    "    with open('output/' + filename, \"wb\") as f:\n",
    "        for chunk in res.iter_content(chunk_size=1024):\n",
    "            if chunk: # filter out keep-alive new chunks\n",
    "                f.write(chunk)\n",
    "                f.flush()\n",
    "\n",
    "    return filename"
   ]
  },
  {
   "cell_type": "code",
   "execution_count": null,
   "metadata": {},
   "outputs": [],
   "source": [
    "# Download the file from an activated asset's location url\n",
    "pl_download(location_url)"
   ]
  },
  {
   "cell_type": "markdown",
   "metadata": {},
   "source": [
    "### Rate Limits\n",
    "Now that you know how to download assets, you should probably keep some of the API rate limits in mind:\n",
    "\n",
    "---\n",
    "- For most endpoints, the rate limit is 10 requests per second, per API key.\n",
    "- For activation endpoints, the rate limit is 5 requests per second, per API key.\n",
    "- For download endpoints, the rate limit is 15 requests per second, per API key.\n",
    "- If you're writing to code to automate accessing the API, you should account for 429 responses and handle retries after a backoff period."
   ]
  },
  {
   "cell_type": "markdown",
   "metadata": {},
   "source": [
    "## Saved Searches\n",
    "---\n"
   ]
  },
  {
   "cell_type": "markdown",
   "metadata": {},
   "source": [
    "The /searches endpoint lets you created saved searches that can be reused.\n",
    "\n",
    "To view your saved searches, visit the searches/?search_type=saved endpoint.\n",
    "\n",
    "Finally, let's create a saved search:"
   ]
  },
  {
   "cell_type": "markdown",
   "metadata": {},
   "source": [
    "**La saugarde à besoin des traitements de téléchargement s'il l'ont veux sauvegardé quelque chose**"
   ]
  },
  {
   "cell_type": "code",
   "execution_count": null,
   "metadata": {},
   "outputs": [],
   "source": [
    "# Setup the saved searches endpoint url\n",
    "searches_url = \"{}/searches\".format(URL)"
   ]
  },
  {
   "cell_type": "code",
   "execution_count": null,
   "metadata": {},
   "outputs": [],
   "source": [
    "# Setup the request, specifying a name for the saved search, along with the usual search item_types and filter.\n",
    "request = {\n",
    "    \"name\" : \"PManicouagan\",\n",
    "    \"item_types\" : item_types,\n",
    "    \"filter\" : and_filter\n",
    "}\n",
    "\n",
    "# Send a POST request to the saved searches endpoint (Create the saved search)\n",
    "res = session.post(searches_url, json=request)\n",
    "\n",
    "# Print the response\n",
    "p(res.json())"
   ]
  },
  {
   "cell_type": "markdown",
   "metadata": {},
   "source": [
    "Now that we created a saved search, let's get a list of our saved searches:"
   ]
  },
  {
   "cell_type": "code",
   "execution_count": null,
   "metadata": {},
   "outputs": [],
   "source": [
    "# Send a GET request to the saved searches endpoint with the saved search type parameter (Get saved searches)\n",
    "res = session.get(searches_url, params={\"search_type\" : \"saved\"})\n",
    "\n",
    "# Assign a variable to the searches property in the saved searches response\n",
    "searches = res.json()[\"searches\"]\n",
    "print(searches[0])#['name'])\n",
    "print(len(searches))\n",
    "\n",
    "# Loop through the searches\n",
    "for search in searches:\n",
    "    # Print the ID, Created Time, and Name for each saved search\n",
    "    print(\"id: {} created: {} name: {}\".format(search[\"id\"], search[\"created\"], search['name']))"
   ]
  },
  {
   "cell_type": "markdown",
   "metadata": {},
   "source": [
    "\n",
    "Ok, now let's check out the results from a particular saved search:"
   ]
  },
  {
   "cell_type": "code",
   "execution_count": null,
   "metadata": {},
   "outputs": [],
   "source": [
    "# Setup the saved search url, using the first saved search in the list\n",
    "saved_url = \"{}/{}\".format(searches_url, searches[0][\"id\"])\n",
    "\n",
    "# Print the saved search url\n",
    "p(saved_url)\n",
    "\n",
    "# Setup the saved search's results url\n",
    "results_url = \"{}/results\".format(saved_url)\n",
    "\n",
    "# Print the saved search's results url\n",
    "p(results_url)"
   ]
  },
  {
   "cell_type": "code",
   "execution_count": null,
   "metadata": {},
   "outputs": [],
   "source": [
    "# Send a GET request to the saved search url (Get the saved search data)\n",
    "res = session.get(saved_url)\n",
    "\n",
    "# Print the response\n",
    "p(res.json())"
   ]
  },
  {
   "cell_type": "code",
   "execution_count": null,
   "metadata": {},
   "outputs": [],
   "source": [
    "\n",
    "# Send a GET request to the saved search results url (Get the saved search results)\n",
    "results = session.get(results_url).json()\n",
    "\n",
    "# Print the number of features in the saved search\n",
    "print(len(results[\"features\"]))\n",
    "\n",
    "# Print the first feature in the saved search\n",
    "print(results[\"features\"][0])"
   ]
  },
  {
   "cell_type": "markdown",
   "metadata": {},
   "source": [
    "A saved search can also be updated by senidng a PUT request with a changed search definition back to the API.\n",
    "\n",
    "Did you know that saved searches can also send you a daily email to alert you to when new items are added to the search resutlts? Oh yeah!"
   ]
  },
  {
   "cell_type": "code",
   "execution_count": null,
   "metadata": {},
   "outputs": [],
   "source": [
    "# Assign a variable to the saved search response\n",
    "search = res.json()\n",
    "\n",
    "# Print the saved search\n",
    "p(search)"
   ]
  },
  {
   "cell_type": "markdown",
   "metadata": {},
   "source": [
    "**Changement le nom de la sauvegarde et l'envoyé  par courriel**"
   ]
  },
  {
   "cell_type": "code",
   "execution_count": null,
   "metadata": {},
   "outputs": [],
   "source": [
    "# Change the saved search name to \"South Vancouver Island\"\n",
    "search[\"name\"] = \"PManicouagan\"\n",
    "\n",
    "# Set the daily email enabled to true (Get email alerts when new items show up in this search)\n",
    "search[\"__daily_email_enabled\"] = True\n",
    "\n",
    "# Send a PUT request to the saved search endpoint (Update the saved search)\n",
    "res = session.put(saved_url, json=search)\n",
    "\n",
    "# The response status code\n",
    "res.status_code"
   ]
  },
  {
   "cell_type": "markdown",
   "metadata": {},
   "source": [
    "## Conclusion\n",
    "You made it! You should now be able to use the Planet API to find items and assets by searching, get stats and save searches, and activate and download assets using Python code!\n",
    "\n",
    "Don't forget to visit the Planet API Reference Docs."
   ]
  },
  {
   "cell_type": "code",
   "execution_count": null,
   "metadata": {},
   "outputs": [],
   "source": []
  },
  {
   "cell_type": "code",
   "execution_count": null,
   "metadata": {},
   "outputs": [],
   "source": []
  },
  {
   "cell_type": "code",
   "execution_count": null,
   "metadata": {},
   "outputs": [],
   "source": []
  }
 ],
 "metadata": {
  "kernelspec": {
   "display_name": "Python 3",
   "language": "python",
   "name": "python3"
  },
  "language_info": {
   "codemirror_mode": {
    "name": "ipython",
    "version": 3
   },
   "file_extension": ".py",
   "mimetype": "text/x-python",
   "name": "python",
   "nbconvert_exporter": "python",
   "pygments_lexer": "ipython3",
   "version": "3.6.8"
  }
 },
 "nbformat": 4,
 "nbformat_minor": 2
}
